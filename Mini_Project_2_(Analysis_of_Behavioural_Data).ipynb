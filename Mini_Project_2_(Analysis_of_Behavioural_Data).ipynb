{
  "nbformat": 4,
  "nbformat_minor": 0,
  "metadata": {
    "colab": {
      "name": "Mini Project #2 (Analysis of Behavioural Data).ipynb",
      "provenance": [],
      "collapsed_sections": [],
      "authorship_tag": "ABX9TyOOLrZ04WEepILtBOQG6nGq",
      "include_colab_link": true
    },
    "kernelspec": {
      "name": "python3",
      "display_name": "Python 3"
    },
    "language_info": {
      "name": "python"
    }
  },
  "cells": [
    {
      "cell_type": "markdown",
      "metadata": {
        "id": "view-in-github",
        "colab_type": "text"
      },
      "source": [
        "<a href=\"https://colab.research.google.com/github/abhi2666/Deep-Learning/blob/main/Mini_Project_2_(Analysis_of_Behavioural_Data).ipynb\" target=\"_parent\"><img src=\"https://colab.research.google.com/assets/colab-badge.svg\" alt=\"Open In Colab\"/></a>"
      ]
    },
    {
      "cell_type": "markdown",
      "source": [
        "# Importing Files"
      ],
      "metadata": {
        "id": "RP5Tzaz7Ftr3"
      }
    },
    {
      "cell_type": "code",
      "execution_count": 1,
      "metadata": {
        "colab": {
          "base_uri": "https://localhost:8080/"
        },
        "id": "PUAspFBPFgD_",
        "outputId": "221b17fd-8ddb-4a80-ebe7-2e4a76b12d29"
      },
      "outputs": [
        {
          "output_type": "stream",
          "name": "stderr",
          "text": [
            "[nltk_data] Downloading package stopwords to /root/nltk_data...\n",
            "[nltk_data]   Package stopwords is already up-to-date!\n"
          ]
        }
      ],
      "source": [
        "#for dataset importing and visualization\n",
        "import pandas as pd\n",
        "import matplotlib.pyplot as plt\n",
        "## for cleaning purpose\n",
        "import re \n",
        "import nltk\n",
        "nltk.download('stopwords')\n",
        "from nltk.corpus import stopwords\n",
        "from nltk.stem.porter import PorterStemmer\n",
        "from sklearn.feature_extraction.text import CountVectorizer\n",
        "from sklearn.preprocessing import LabelEncoder\n",
        "from sklearn.feature_extraction.text import CountVectorizer\n",
        "from sklearn.model_selection import train_test_split\n",
        "from sklearn.linear_model import LogisticRegression\n",
        "from sklearn.metrics import confusion_matrix, accuracy_score"
      ]
    },
    {
      "cell_type": "markdown",
      "source": [
        "## Data PreProcessing"
      ],
      "metadata": {
        "id": "5kyk0BLVGuyv"
      }
    },
    {
      "cell_type": "markdown",
      "source": [
        "### Importing dataset"
      ],
      "metadata": {
        "id": "9VsZmaaiHQ8B"
      }
    },
    {
      "cell_type": "code",
      "source": [
        "## starting with importing the data in collab using pandas\n",
        "dataset = pd.read_csv('chrome_history.csv')\n",
        "## before we split the dataset we will perform cleaning of the data \n",
        "## because there are strings in this data and ML model cannot take string directly"
      ],
      "metadata": {
        "id": "7w9_1BpWGyug"
      },
      "execution_count": 2,
      "outputs": []
    },
    {
      "cell_type": "markdown",
      "source": [
        "### Cleaning of the data "
      ],
      "metadata": {
        "id": "_D3sC3V7HU75"
      }
    },
    {
      "cell_type": "markdown",
      "source": [
        "### In this step we will clean the data by removing any kind of punctuations, special symbols basically everything except alphabets. \n",
        "### Once its done, we will then add these into the lists called cleaned_data and this list will furthur be used to create the matrix of features."
      ],
      "metadata": {
        "id": "NygY3o7PHln1"
      }
    },
    {
      "cell_type": "code",
      "source": [
        "## we will create an empty list where we will store the cleaned text\n",
        "cleaned_data = [] \n",
        "for i in range(0, len(dataset)):\n",
        "  review = re.sub('[^a-zA-Z]', ' ', str(dataset['texts'][i]))\n",
        "  # review = str(dataset['texts'][i])\n",
        "  review = review.lower()\n",
        "  review = review.split()\n",
        "  #Stemming the data\n",
        "  stemmer = PorterStemmer()\n",
        "  review = [stemmer.stem(word) for word in review if not word in set(stopwords.words('english'))]\n",
        "  review = ' '.join(review)\n",
        "  cleaned_data.append(review)"
      ],
      "metadata": {
        "id": "DthID0i3HYf4"
      },
      "execution_count": 3,
      "outputs": []
    },
    {
      "cell_type": "code",
      "source": [
        "## printing the cleaned words line by line\n",
        "for item in cleaned_data:\n",
        "  print(item)"
      ],
      "metadata": {
        "colab": {
          "base_uri": "https://localhost:8080/"
        },
        "id": "-tg0ym0xJB_F",
        "outputId": "fbaedde0-028f-4c9c-e70c-3a84c4f40261"
      },
      "execution_count": 4,
      "outputs": [
        {
          "output_type": "stream",
          "name": "stdout",
          "text": [
            "store histori csv file use python program googl search\n",
            "nan\n",
            "watch beyblad burst gachi english sub dub onlin free zoro\n",
            "watch beyblad burst gachi english sub dub onlin free zoro\n",
            "watch beyblad burst gachi english sub dub onlin free zoro\n",
            "watch anim onlin free anim stream onlin zoro anim websit\n",
            "watch anim onlin free anim stream onlin zoro anim websit\n",
            "zoro tv googl search\n",
            "nan\n",
            "watch beyblad burst spark ona episod english sub dub onlin free zoro\n",
            "nan\n",
            "watch beyblad burst spark ona episod english sub dub onlin free zoro\n",
            "nan\n",
            "watch beyblad burst spark ona episod english sub dub onlin free zoro\n",
            "nan\n",
            "watch beyblad burst spark ona episod english sub dub onlin free zoro\n",
            "nan\n",
            "watch beyblad burst spark ona episod english sub dub onlin free zoro\n",
            "watch beyblad burst spark ona episod english sub dub onlin free zoro\n",
            "watch beyblad burst spark ona episod english sub dub onlin free zoro\n",
            "watch anim onlin free anim stream onlin zoro anim websit\n",
            "nan\n",
            "nan\n",
            "watch beyblad g revolut english sub dub onlin free zoro\n",
            "watch beyblad g revolut english sub dub onlin free zoro\n",
            "watch beyblad g revolut english sub dub onlin free zoro\n",
            "watch anim onlin free anim stream onlin zoro anim websit\n",
            "zoro tv googl search\n",
            "googl\n",
            "googl com googl search\n",
            "regress analysi machin learn\n",
            "machin learn regress\n",
            "instagram\n",
            "search algorithm\n",
            "geek geek\n",
            "gforg\n",
            "depth first search\n",
            "df algorithm\n",
            "graphic era univers\n",
            "ye googl search\n",
            "coursera\n",
            "faq errata coursera\n",
            "qualifi quiz\n",
            "suppos compil\n",
            "softwar secur\n",
            "php\n",
            "\n",
            "\n",
            "reddit\n",
            "javapoint\n",
            "export chrome histori chrome web store\n",
            "export chrome histori chrome web store\n",
            "extract histori chrome googl search\n",
            "extract histori chrome googl search\n",
            "extract histori chrome googl search\n",
            "csv file open\n",
            "timeandd com\n",
            "timeandd com\n",
            "ms excel import live data web excel youtub\n",
            "timeandd com\n",
            "self learn\n",
            "csv file open\n",
            "csv file open\n",
            "ms excel import live data web excel youtub\n",
            "csv file googl search\n",
            "csv file googl search\n",
            "csv file googl search\n",
            "learn basic machin learn free ml beginn program\n",
            "make csv file youtub\n",
            "creat csv file youtub\n",
            "download instal browser histori examin rc youtub\n",
            "learn basic machin learn free ml beginn program\n",
            "free onlin cours power futur skillup simplilearn\n",
            "predict human behaviour activ use deep learn lstm ajay kumar sharma medium\n",
            "download instal browser histori examin rc youtub\n",
            "download brower histori packag youtub\n",
            "self learn\n",
            "uttaranch univers campu tour episod youtub\n",
            "walk uttaranch univers youtub\n",
            "uttaranch univers campu tour episod youtub\n",
            "walk uttaranch univers youtub\n",
            "walk uttaranch univers youtub\n",
            "uttaranch univers googl search\n",
            "uttaranch univers googl search\n",
            "uttaranch univers googl search\n",
            "uttaranch univers googl search\n",
            "uttaranch univers googl search\n",
            "behaviour analysi use machin learn googl search\n",
            "self learn\n",
            "learn basic machin learn free ml beginn program\n",
            "self learn\n",
            "dashboard\n",
            "learn simplilearn\n",
            "learn simplilearn\n",
            "learn simplilearn\n",
            "dashboard\n",
            "learn simplilearn\n",
            "learn simplilearn\n",
            "learn simplilearn\n",
            "skillup free cours googl search\n",
            "free onlin cours power futur skillup simplilearn\n",
            "learn basic machin learn free ml beginn program\n",
            "introduct deep learn\n",
            "introduct deep learn\n",
            "free onlin cours power futur skillup simplilearn\n",
            "free onlin cours power futur skillup simplilearn\n",
            "free onlin cours power futur skillup simplilearn\n",
            "free onlin cours power futur skillup simplilearn\n",
            "onlin cours certif program profession skillup onlin\n",
            "skillup free cours googl search\n",
            "skillup free cours googl search\n",
            "skillup free cours googl search\n",
            "free pdf editor free download window\n",
            "download free pdf editor window free\n",
            "pdf editor download pc googl search\n",
            "pdf editor download pc googl search\n",
            "pdf editor download pc googl search\n",
            "predict human behaviour activ use deep learn lstm ajay kumar sharma medium\n",
            "predict human behaviour activ use deep learn lstm ajay kumar sharma medium\n",
            "predict human behaviour activ use deep learn lstm ajay kumar sharma medium\n",
            "behaviour analysi use machin learn googl search\n",
            "behaviour analysi use machin learn googl search\n",
            "behaviour analysi use machin learn googl search\n",
            "unstop competit quizz hackathon scholarship internship student corpor\n"
          ]
        }
      ]
    },
    {
      "cell_type": "markdown",
      "source": [
        "### Creating Matrix of Features"
      ],
      "metadata": {
        "id": "KfHLkz5jJpD2"
      }
    },
    {
      "cell_type": "code",
      "source": [
        "## we will create matrix of feautures from cleaned_data by converting the string list\n",
        "## into 2-D matrix called as Matrix of Features by using the technique called vectorization.\n",
        "cv = CountVectorizer(max_features = 1500)\n",
        "x = cv.fit_transform(cleaned_data).toarray()\n",
        "print(x)"
      ],
      "metadata": {
        "colab": {
          "base_uri": "https://localhost:8080/"
        },
        "id": "MKo4e3L0JoaX",
        "outputId": "d522f3e4-b3e5-4248-e232-21bcc8c39a41"
      },
      "execution_count": 5,
      "outputs": [
        {
          "output_type": "stream",
          "name": "stdout",
          "text": [
            "[[0 0 0 ... 0 0 0]\n",
            " [0 0 0 ... 0 0 0]\n",
            " [0 0 0 ... 0 0 1]\n",
            " ...\n",
            " [0 0 0 ... 0 0 0]\n",
            " [0 0 0 ... 0 0 0]\n",
            " [0 0 0 ... 0 0 0]]\n"
          ]
        }
      ]
    },
    {
      "cell_type": "markdown",
      "source": [
        "### Encoding Categorical Data"
      ],
      "metadata": {
        "id": "3oFaQGP_M60u"
      }
    },
    {
      "cell_type": "code",
      "source": [
        "y = dataset.iloc[:, -1] ## last column will be taken which consists of the interests\n",
        "le = LabelEncoder()\n",
        "y = le.fit_transform(y)"
      ],
      "metadata": {
        "id": "bNbsvlmZM-sN"
      },
      "execution_count": 6,
      "outputs": []
    },
    {
      "cell_type": "code",
      "source": [
        "print(y)"
      ],
      "metadata": {
        "colab": {
          "base_uri": "https://localhost:8080/"
        },
        "id": "vySwsjO8PpxF",
        "outputId": "c34a8ece-4e2b-4e03-ea81-adbf81435598"
      },
      "execution_count": 7,
      "outputs": [
        {
          "output_type": "stream",
          "name": "stdout",
          "text": [
            "[1 1 0 0 0 0 0 0 0 0 0 0 0 0 0 0 0 0 0 0 0 0 0 0 0 0 0 0 1 1 1 1 0 1 1 1 1\n",
            " 1 1 0 1 1 1 1 1 1 1 1 0 1 1 1 1 1 1 1 1 1 0 1 1 1 1 1 1 1 1 1 1 0 0 0 1 1\n",
            " 1 1 1 0 0 0 0 0 0 0 0 0 0 1 1 1 1 1 1 1 1 1 1 1 1 1 1 1 1 1 1 1 1 1 1 1 1\n",
            " 1 1 0 0 0 0 1 1 1 1 1 1 0]\n"
          ]
        }
      ]
    },
    {
      "cell_type": "markdown",
      "source": [
        "### Splitting the Data"
      ],
      "metadata": {
        "id": "_tw1CAkxrEZI"
      }
    },
    {
      "cell_type": "code",
      "source": [
        "X_train, X_test, y_train, y_test = train_test_split(x, y, test_size = 0.20, random_state = 0)"
      ],
      "metadata": {
        "id": "p9e_eEHCrJuv"
      },
      "execution_count": 8,
      "outputs": []
    },
    {
      "cell_type": "markdown",
      "source": [
        "### Training the model "
      ],
      "metadata": {
        "id": "Y6PfVwXoqbS6"
      }
    },
    {
      "cell_type": "code",
      "source": [
        "from sklearn.naive_bayes import GaussianNB\n",
        "classifier = GaussianNB()\n",
        "classifier.fit(X_train, y_train) ## here we are training the model so that we can use it later on"
      ],
      "metadata": {
        "id": "u9TsPWIrqgTe",
        "colab": {
          "base_uri": "https://localhost:8080/"
        },
        "outputId": "c3747adb-682e-44d1-b91d-f6faecbe5ae4"
      },
      "execution_count": 9,
      "outputs": [
        {
          "output_type": "execute_result",
          "data": {
            "text/plain": [
              "GaussianNB()"
            ]
          },
          "metadata": {},
          "execution_count": 9
        }
      ]
    },
    {
      "cell_type": "markdown",
      "source": [
        "### Logistics Regression"
      ],
      "metadata": {
        "id": "GelgCJ-dQLGV"
      }
    },
    {
      "cell_type": "code",
      "source": [
        "classifier2 = LogisticRegression(random_state = 0)\n",
        "classifier2.fit(X_train, y_train)"
      ],
      "metadata": {
        "colab": {
          "base_uri": "https://localhost:8080/"
        },
        "id": "ko9Wl3O1QPKN",
        "outputId": "8512bfce-200c-419d-b067-b4c9fc2763a2"
      },
      "execution_count": 10,
      "outputs": [
        {
          "output_type": "execute_result",
          "data": {
            "text/plain": [
              "LogisticRegression(random_state=0)"
            ]
          },
          "metadata": {},
          "execution_count": 10
        }
      ]
    },
    {
      "cell_type": "markdown",
      "source": [
        "### CONFUSION MATRIX"
      ],
      "metadata": {
        "id": "iEGX9XvbrRuG"
      }
    },
    {
      "cell_type": "code",
      "source": [
        "y_pred = classifier.predict(X_test)\n",
        "cm = confusion_matrix(y_test, y_pred)\n",
        "print(cm)\n",
        "accuracy = accuracy_score(y_test, y_pred)\n",
        "print(accuracy)"
      ],
      "metadata": {
        "id": "LzRaqSxErZMR",
        "colab": {
          "base_uri": "https://localhost:8080/"
        },
        "outputId": "c8fbe982-97d1-4f4e-c4a7-0d4c5c8912b6"
      },
      "execution_count": 11,
      "outputs": [
        {
          "output_type": "stream",
          "name": "stdout",
          "text": [
            "[[10  1]\n",
            " [ 3 11]]\n",
            "0.84\n"
          ]
        }
      ]
    },
    {
      "cell_type": "markdown",
      "source": [
        "### Testing against Custom Input"
      ],
      "metadata": {
        "id": "TSQiIL9QQVG0"
      }
    },
    {
      "cell_type": "code",
      "source": [
        "## 1 - Study and 0 - Entertainment\n",
        "string = input(\"Enter a string-->\",)\n",
        "new = []\n",
        "new.append(string)\n",
        "new = cv.transform(new).toarray()\n",
        "custom_predict = classifier.predict(new)\n",
        "if(custom_predict == 0):\n",
        "  print(\"User is Interested in Entertainment and fun\")\n",
        "else:\n",
        "  print(\"User is interested in Education related content\")"
      ],
      "metadata": {
        "colab": {
          "base_uri": "https://localhost:8080/"
        },
        "id": "2cXB4mfXQY1N",
        "outputId": "4e50288c-ceb1-4444-f05b-1546edf647e8"
      },
      "execution_count": 27,
      "outputs": [
        {
          "output_type": "stream",
          "name": "stdout",
          "text": [
            "Enter a string-->what is graphic era hill university\n",
            "User is interested in Education related content\n"
          ]
        }
      ]
    }
  ]
}